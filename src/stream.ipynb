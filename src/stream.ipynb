{
 "cells": [
  {
   "cell_type": "code",
   "execution_count": null,
   "metadata": {},
   "outputs": [],
   "source": [
    "import streamlit as st\n",
    "import numpy as np\n",
    "import pandas as pd\n",
    "import folium\n",
    "from pickle import load\n",
    "from streamlit_folium import folium_static\n",
    "\n",
    "# Cargar el modelo\n",
    "model = load(open(\"../Models/.sav\", \"rb\"))"
   ]
  },
  {
   "cell_type": "code",
   "execution_count": null,
   "metadata": {},
   "outputs": [],
   "source": [
    "st.title(\"Predicción de Caída de Meteoritos\")\n",
    "\n",
    "reglat = st.number_input(\"Ingrese la latitud:\", min_value=-90.0, max_value=90.0, step=0.0001)\n",
    "reclong = st.number_input(\"Ingrese la longitud:\", min_value=-180.0, max_value=180.0, step=0.0001)\n",
    "\n",
    "if st.button(\"Predecir caída de meteorito\"):\n",
    "    features = np.array([[reglat, reclong]])\n",
    "    \n",
    "    prediction = model.predict(features)[0]\n",
    "    \n",
    "    st.write(f\"Predicción: {prediction}\")\n",
    "\n",
    "    geoprediction = folium.Map(location=[reglat, reclong], zoom_start=10)\n",
    "\n",
    "    folium.Marker([reglat, reclong], popup=f\"Predicción: {prediction}\").add_to(geoprediction)\n",
    "\n",
    "    folium_static(geoprediction)"
   ]
  },
  {
   "cell_type": "code",
   "execution_count": null,
   "metadata": {},
   "outputs": [],
   "source": [
    "st.title(\"Predicción de Caída de Meteoritos - Mapa de Calor\")\n",
    "\n",
    "reglat = st.number_input(\"Ingrese la latitud:\", min_value=-90.0, max_value=90.0, step=0.0001)\n",
    "reclong = st.number_input(\"Ingrese la longitud:\", min_value=-180.0, max_value=180.0, step=0.0001)\n",
    "\n",
    "if st.button(\"Agregar predicción al mapa de calor\"):\n",
    "    features = np.array([[reglat, reclong]])\n",
    "    \n",
    "    prediction = model.predict(features)[0]\n",
    "    \n",
    "    st.write(f\"Predicción: {prediction}\")\n",
    "    \n",
    "    if \"predictions\" not in st.session_state:\n",
    "        st.session_state.predictions = []\n",
    "\n",
    "    st.session_state.predictions.append([reglat, reclong, prediction])\n",
    "\n",
    "geopred = folium.Map(location=[20, 0], zoom_start=2)\n",
    "\n",
    "if \"predictions\" in st.session_state:\n",
    "    HeatMap(st.session_state.predictions).add_to(geopred)\n",
    "\n",
    "folium_static(geopred)"
   ]
  }
 ],
 "metadata": {
  "kernelspec": {
   "display_name": "Python 3",
   "language": "python",
   "name": "python3"
  },
  "language_info": {
   "name": "python",
   "version": "3.12.1"
  }
 },
 "nbformat": 4,
 "nbformat_minor": 2
}
